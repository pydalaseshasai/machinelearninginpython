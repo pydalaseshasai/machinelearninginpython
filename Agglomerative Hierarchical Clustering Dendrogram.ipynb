{
 "cells": [
  {
   "cell_type": "code",
   "execution_count": 1,
   "id": "90230100",
   "metadata": {},
   "outputs": [],
   "source": [
    "import pandas as pd \n",
    "import numpy as np\n",
    "import matplotlib.pyplot as plt\n",
    "%matplotlib inline\n",
    "import seaborn as sns\n",
    "from scipy.stats import zscore"
   ]
  },
  {
   "cell_type": "code",
   "execution_count": 2,
   "id": "230ba5ca",
   "metadata": {},
   "outputs": [],
   "source": [
    "df=pd.read_csv(\"https://raw.githubusercontent.com/Premalatha-success/Unsupervised-Learning-and-Ensemble/master/Cust_Spend_Data.csv\")"
   ]
  },
  {
   "cell_type": "code",
   "execution_count": 3,
   "id": "b69737d8",
   "metadata": {},
   "outputs": [
    {
     "data": {
      "text/html": [
       "<div>\n",
       "<style scoped>\n",
       "    .dataframe tbody tr th:only-of-type {\n",
       "        vertical-align: middle;\n",
       "    }\n",
       "\n",
       "    .dataframe tbody tr th {\n",
       "        vertical-align: top;\n",
       "    }\n",
       "\n",
       "    .dataframe thead th {\n",
       "        text-align: right;\n",
       "    }\n",
       "</style>\n",
       "<table border=\"1\" class=\"dataframe\">\n",
       "  <thead>\n",
       "    <tr style=\"text-align: right;\">\n",
       "      <th></th>\n",
       "      <th>Cust_ID</th>\n",
       "      <th>Name</th>\n",
       "      <th>Avg_Mthly_Spend</th>\n",
       "      <th>No_Of_Visits</th>\n",
       "      <th>Apparel_Items</th>\n",
       "      <th>FnV_Items</th>\n",
       "      <th>Staples_Items</th>\n",
       "    </tr>\n",
       "  </thead>\n",
       "  <tbody>\n",
       "    <tr>\n",
       "      <th>0</th>\n",
       "      <td>1</td>\n",
       "      <td>A</td>\n",
       "      <td>10000</td>\n",
       "      <td>2</td>\n",
       "      <td>1</td>\n",
       "      <td>1</td>\n",
       "      <td>0</td>\n",
       "    </tr>\n",
       "    <tr>\n",
       "      <th>1</th>\n",
       "      <td>2</td>\n",
       "      <td>B</td>\n",
       "      <td>7000</td>\n",
       "      <td>3</td>\n",
       "      <td>0</td>\n",
       "      <td>10</td>\n",
       "      <td>9</td>\n",
       "    </tr>\n",
       "    <tr>\n",
       "      <th>2</th>\n",
       "      <td>3</td>\n",
       "      <td>C</td>\n",
       "      <td>7000</td>\n",
       "      <td>7</td>\n",
       "      <td>1</td>\n",
       "      <td>3</td>\n",
       "      <td>4</td>\n",
       "    </tr>\n",
       "    <tr>\n",
       "      <th>3</th>\n",
       "      <td>4</td>\n",
       "      <td>D</td>\n",
       "      <td>6500</td>\n",
       "      <td>5</td>\n",
       "      <td>1</td>\n",
       "      <td>1</td>\n",
       "      <td>4</td>\n",
       "    </tr>\n",
       "    <tr>\n",
       "      <th>4</th>\n",
       "      <td>5</td>\n",
       "      <td>E</td>\n",
       "      <td>6000</td>\n",
       "      <td>6</td>\n",
       "      <td>0</td>\n",
       "      <td>12</td>\n",
       "      <td>3</td>\n",
       "    </tr>\n",
       "  </tbody>\n",
       "</table>\n",
       "</div>"
      ],
      "text/plain": [
       "   Cust_ID Name  Avg_Mthly_Spend  No_Of_Visits  Apparel_Items  FnV_Items  \\\n",
       "0        1    A            10000             2              1          1   \n",
       "1        2    B             7000             3              0         10   \n",
       "2        3    C             7000             7              1          3   \n",
       "3        4    D             6500             5              1          1   \n",
       "4        5    E             6000             6              0         12   \n",
       "\n",
       "   Staples_Items  \n",
       "0              0  \n",
       "1              9  \n",
       "2              4  \n",
       "3              4  \n",
       "4              3  "
      ]
     },
     "execution_count": 3,
     "metadata": {},
     "output_type": "execute_result"
    }
   ],
   "source": [
    "df.head()"
   ]
  },
  {
   "cell_type": "code",
   "execution_count": 4,
   "id": "d5b71252",
   "metadata": {},
   "outputs": [
    {
     "data": {
      "text/plain": [
       "(10, 7)"
      ]
     },
     "execution_count": 4,
     "metadata": {},
     "output_type": "execute_result"
    }
   ],
   "source": [
    "df.shape"
   ]
  },
  {
   "cell_type": "code",
   "execution_count": 5,
   "id": "f346595e",
   "metadata": {},
   "outputs": [
    {
     "data": {
      "text/plain": [
       "Cust_ID             int64\n",
       "Name               object\n",
       "Avg_Mthly_Spend     int64\n",
       "No_Of_Visits        int64\n",
       "Apparel_Items       int64\n",
       "FnV_Items           int64\n",
       "Staples_Items       int64\n",
       "dtype: object"
      ]
     },
     "execution_count": 5,
     "metadata": {},
     "output_type": "execute_result"
    }
   ],
   "source": [
    "df.dtypes"
   ]
  },
  {
   "cell_type": "code",
   "execution_count": 6,
   "id": "2b9f21f0",
   "metadata": {},
   "outputs": [
    {
     "data": {
      "text/plain": [
       "Cust_ID            0\n",
       "Name               0\n",
       "Avg_Mthly_Spend    0\n",
       "No_Of_Visits       0\n",
       "Apparel_Items      0\n",
       "FnV_Items          0\n",
       "Staples_Items      0\n",
       "dtype: int64"
      ]
     },
     "execution_count": 6,
     "metadata": {},
     "output_type": "execute_result"
    }
   ],
   "source": [
    "df.isnull().sum()"
   ]
  },
  {
   "cell_type": "code",
   "execution_count": 7,
   "id": "acedc170",
   "metadata": {},
   "outputs": [
    {
     "data": {
      "text/html": [
       "<div>\n",
       "<style scoped>\n",
       "    .dataframe tbody tr th:only-of-type {\n",
       "        vertical-align: middle;\n",
       "    }\n",
       "\n",
       "    .dataframe tbody tr th {\n",
       "        vertical-align: top;\n",
       "    }\n",
       "\n",
       "    .dataframe thead th {\n",
       "        text-align: right;\n",
       "    }\n",
       "</style>\n",
       "<table border=\"1\" class=\"dataframe\">\n",
       "  <thead>\n",
       "    <tr style=\"text-align: right;\">\n",
       "      <th></th>\n",
       "      <th>Avg_Mthly_Spend</th>\n",
       "      <th>No_Of_Visits</th>\n",
       "      <th>Apparel_Items</th>\n",
       "      <th>FnV_Items</th>\n",
       "      <th>Staples_Items</th>\n",
       "    </tr>\n",
       "  </thead>\n",
       "  <tbody>\n",
       "    <tr>\n",
       "      <th>0</th>\n",
       "      <td>10000</td>\n",
       "      <td>2</td>\n",
       "      <td>1</td>\n",
       "      <td>1</td>\n",
       "      <td>0</td>\n",
       "    </tr>\n",
       "    <tr>\n",
       "      <th>1</th>\n",
       "      <td>7000</td>\n",
       "      <td>3</td>\n",
       "      <td>0</td>\n",
       "      <td>10</td>\n",
       "      <td>9</td>\n",
       "    </tr>\n",
       "    <tr>\n",
       "      <th>2</th>\n",
       "      <td>7000</td>\n",
       "      <td>7</td>\n",
       "      <td>1</td>\n",
       "      <td>3</td>\n",
       "      <td>4</td>\n",
       "    </tr>\n",
       "    <tr>\n",
       "      <th>3</th>\n",
       "      <td>6500</td>\n",
       "      <td>5</td>\n",
       "      <td>1</td>\n",
       "      <td>1</td>\n",
       "      <td>4</td>\n",
       "    </tr>\n",
       "    <tr>\n",
       "      <th>4</th>\n",
       "      <td>6000</td>\n",
       "      <td>6</td>\n",
       "      <td>0</td>\n",
       "      <td>12</td>\n",
       "      <td>3</td>\n",
       "    </tr>\n",
       "  </tbody>\n",
       "</table>\n",
       "</div>"
      ],
      "text/plain": [
       "   Avg_Mthly_Spend  No_Of_Visits  Apparel_Items  FnV_Items  Staples_Items\n",
       "0            10000             2              1          1              0\n",
       "1             7000             3              0         10              9\n",
       "2             7000             7              1          3              4\n",
       "3             6500             5              1          1              4\n",
       "4             6000             6              0         12              3"
      ]
     },
     "execution_count": 7,
     "metadata": {},
     "output_type": "execute_result"
    }
   ],
   "source": [
    "dfattr=df.iloc[:,2:]\n",
    "dfattr.head()"
   ]
  },
  {
   "cell_type": "code",
   "execution_count": 8,
   "id": "7cb8a99f",
   "metadata": {},
   "outputs": [
    {
     "data": {
      "text/html": [
       "<div>\n",
       "<style scoped>\n",
       "    .dataframe tbody tr th:only-of-type {\n",
       "        vertical-align: middle;\n",
       "    }\n",
       "\n",
       "    .dataframe tbody tr th {\n",
       "        vertical-align: top;\n",
       "    }\n",
       "\n",
       "    .dataframe thead th {\n",
       "        text-align: right;\n",
       "    }\n",
       "</style>\n",
       "<table border=\"1\" class=\"dataframe\">\n",
       "  <thead>\n",
       "    <tr style=\"text-align: right;\">\n",
       "      <th></th>\n",
       "      <th>Avg_Mthly_Spend</th>\n",
       "      <th>No_Of_Visits</th>\n",
       "      <th>Apparel_Items</th>\n",
       "      <th>FnV_Items</th>\n",
       "      <th>Staples_Items</th>\n",
       "    </tr>\n",
       "  </thead>\n",
       "  <tbody>\n",
       "    <tr>\n",
       "      <th>0</th>\n",
       "      <td>1.886498</td>\n",
       "      <td>-1.240347</td>\n",
       "      <td>1.527525</td>\n",
       "      <td>-0.741433</td>\n",
       "      <td>-1.380131</td>\n",
       "    </tr>\n",
       "    <tr>\n",
       "      <th>1</th>\n",
       "      <td>0.787567</td>\n",
       "      <td>-0.620174</td>\n",
       "      <td>-0.654654</td>\n",
       "      <td>1.280656</td>\n",
       "      <td>1.725164</td>\n",
       "    </tr>\n",
       "    <tr>\n",
       "      <th>2</th>\n",
       "      <td>0.787567</td>\n",
       "      <td>1.860521</td>\n",
       "      <td>1.527525</td>\n",
       "      <td>-0.292080</td>\n",
       "      <td>0.000000</td>\n",
       "    </tr>\n",
       "    <tr>\n",
       "      <th>3</th>\n",
       "      <td>0.604412</td>\n",
       "      <td>0.620174</td>\n",
       "      <td>1.527525</td>\n",
       "      <td>-0.741433</td>\n",
       "      <td>0.000000</td>\n",
       "    </tr>\n",
       "    <tr>\n",
       "      <th>4</th>\n",
       "      <td>0.421257</td>\n",
       "      <td>1.240347</td>\n",
       "      <td>-0.654654</td>\n",
       "      <td>1.730009</td>\n",
       "      <td>-0.345033</td>\n",
       "    </tr>\n",
       "    <tr>\n",
       "      <th>5</th>\n",
       "      <td>-0.311364</td>\n",
       "      <td>-0.620174</td>\n",
       "      <td>-0.654654</td>\n",
       "      <td>-0.741433</td>\n",
       "      <td>1.380131</td>\n",
       "    </tr>\n",
       "    <tr>\n",
       "      <th>6</th>\n",
       "      <td>-0.860829</td>\n",
       "      <td>0.620174</td>\n",
       "      <td>-0.654654</td>\n",
       "      <td>1.505333</td>\n",
       "      <td>-0.690066</td>\n",
       "    </tr>\n",
       "    <tr>\n",
       "      <th>7</th>\n",
       "      <td>-0.860829</td>\n",
       "      <td>-0.620174</td>\n",
       "      <td>-0.654654</td>\n",
       "      <td>-0.741433</td>\n",
       "      <td>-1.035098</td>\n",
       "    </tr>\n",
       "    <tr>\n",
       "      <th>8</th>\n",
       "      <td>-1.043984</td>\n",
       "      <td>-1.240347</td>\n",
       "      <td>-0.654654</td>\n",
       "      <td>-0.516756</td>\n",
       "      <td>-0.690066</td>\n",
       "    </tr>\n",
       "    <tr>\n",
       "      <th>9</th>\n",
       "      <td>-1.410294</td>\n",
       "      <td>0.000000</td>\n",
       "      <td>-0.654654</td>\n",
       "      <td>-0.741433</td>\n",
       "      <td>1.035098</td>\n",
       "    </tr>\n",
       "  </tbody>\n",
       "</table>\n",
       "</div>"
      ],
      "text/plain": [
       "   Avg_Mthly_Spend  No_Of_Visits  Apparel_Items  FnV_Items  Staples_Items\n",
       "0         1.886498     -1.240347       1.527525  -0.741433      -1.380131\n",
       "1         0.787567     -0.620174      -0.654654   1.280656       1.725164\n",
       "2         0.787567      1.860521       1.527525  -0.292080       0.000000\n",
       "3         0.604412      0.620174       1.527525  -0.741433       0.000000\n",
       "4         0.421257      1.240347      -0.654654   1.730009      -0.345033\n",
       "5        -0.311364     -0.620174      -0.654654  -0.741433       1.380131\n",
       "6        -0.860829      0.620174      -0.654654   1.505333      -0.690066\n",
       "7        -0.860829     -0.620174      -0.654654  -0.741433      -1.035098\n",
       "8        -1.043984     -1.240347      -0.654654  -0.516756      -0.690066\n",
       "9        -1.410294      0.000000      -0.654654  -0.741433       1.035098"
      ]
     },
     "execution_count": 8,
     "metadata": {},
     "output_type": "execute_result"
    }
   ],
   "source": [
    "dfScaled=dfattr.apply(zscore)\n",
    "dfScaled.head(10)"
   ]
  },
  {
   "cell_type": "code",
   "execution_count": 9,
   "id": "e53b2932",
   "metadata": {},
   "outputs": [
    {
     "data": {
      "text/plain": [
       "<seaborn.axisgrid.PairGrid at 0x22a59e3d0d0>"
      ]
     },
     "execution_count": 9,
     "metadata": {},
     "output_type": "execute_result"
    },
    {
     "data": {
      "image/png": "[encoded data removed]",
      "text/plain": [
       "<Figure size 1440x720 with 30 Axes>"
      ]
     },
     "metadata": {
      "needs_background": "light"
     },
     "output_type": "display_data"
    }
   ],
   "source": [
    "sns.pairplot(dfScaled,height=2,aspect=2,diag_kind='kde')"
   ]
  },
  {
   "cell_type": "code",
   "execution_count": 11,
   "id": "e1ffe705",
   "metadata": {},
   "outputs": [],
   "source": [
    "from sklearn.cluster import AgglomerativeClustering"
   ]
  },
  {
   "cell_type": "code",
   "execution_count": 16,
   "id": "b1d6d1b9",
   "metadata": {},
   "outputs": [],
   "source": [
    "m=AgglomerativeClustering(n_clusters=2,affinity='euclidean',linkage='average')"
   ]
  },
  {
   "cell_type": "code",
   "execution_count": 17,
   "id": "b11362f7",
   "metadata": {},
   "outputs": [
    {
     "data": {
      "text/plain": [
       "AgglomerativeClustering(linkage='average')"
      ]
     },
     "execution_count": 17,
     "metadata": {},
     "output_type": "execute_result"
    }
   ],
   "source": [
    "m.fit(dfScaled)"
   ]
  },
  {
   "cell_type": "code",
   "execution_count": 19,
   "id": "f52942e2",
   "metadata": {},
   "outputs": [
    {
     "data": {
      "text/html": [
       "<div>\n",
       "<style scoped>\n",
       "    .dataframe tbody tr th:only-of-type {\n",
       "        vertical-align: middle;\n",
       "    }\n",
       "\n",
       "    .dataframe tbody tr th {\n",
       "        vertical-align: top;\n",
       "    }\n",
       "\n",
       "    .dataframe thead th {\n",
       "        text-align: right;\n",
       "    }\n",
       "</style>\n",
       "<table border=\"1\" class=\"dataframe\">\n",
       "  <thead>\n",
       "    <tr style=\"text-align: right;\">\n",
       "      <th></th>\n",
       "      <th>Avg_Mthly_Spend</th>\n",
       "      <th>No_Of_Visits</th>\n",
       "      <th>Apparel_Items</th>\n",
       "      <th>FnV_Items</th>\n",
       "      <th>Staples_Items</th>\n",
       "      <th>labels</th>\n",
       "    </tr>\n",
       "  </thead>\n",
       "  <tbody>\n",
       "    <tr>\n",
       "      <th>0</th>\n",
       "      <td>10000</td>\n",
       "      <td>2</td>\n",
       "      <td>1</td>\n",
       "      <td>1</td>\n",
       "      <td>0</td>\n",
       "      <td>1</td>\n",
       "    </tr>\n",
       "    <tr>\n",
       "      <th>1</th>\n",
       "      <td>7000</td>\n",
       "      <td>3</td>\n",
       "      <td>0</td>\n",
       "      <td>10</td>\n",
       "      <td>9</td>\n",
       "      <td>0</td>\n",
       "    </tr>\n",
       "    <tr>\n",
       "      <th>2</th>\n",
       "      <td>7000</td>\n",
       "      <td>7</td>\n",
       "      <td>1</td>\n",
       "      <td>3</td>\n",
       "      <td>4</td>\n",
       "      <td>1</td>\n",
       "    </tr>\n",
       "    <tr>\n",
       "      <th>3</th>\n",
       "      <td>6500</td>\n",
       "      <td>5</td>\n",
       "      <td>1</td>\n",
       "      <td>1</td>\n",
       "      <td>4</td>\n",
       "      <td>1</td>\n",
       "    </tr>\n",
       "    <tr>\n",
       "      <th>4</th>\n",
       "      <td>6000</td>\n",
       "      <td>6</td>\n",
       "      <td>0</td>\n",
       "      <td>12</td>\n",
       "      <td>3</td>\n",
       "      <td>0</td>\n",
       "    </tr>\n",
       "    <tr>\n",
       "      <th>5</th>\n",
       "      <td>4000</td>\n",
       "      <td>3</td>\n",
       "      <td>0</td>\n",
       "      <td>1</td>\n",
       "      <td>8</td>\n",
       "      <td>0</td>\n",
       "    </tr>\n",
       "    <tr>\n",
       "      <th>6</th>\n",
       "      <td>2500</td>\n",
       "      <td>5</td>\n",
       "      <td>0</td>\n",
       "      <td>11</td>\n",
       "      <td>2</td>\n",
       "      <td>0</td>\n",
       "    </tr>\n",
       "    <tr>\n",
       "      <th>7</th>\n",
       "      <td>2500</td>\n",
       "      <td>3</td>\n",
       "      <td>0</td>\n",
       "      <td>1</td>\n",
       "      <td>1</td>\n",
       "      <td>0</td>\n",
       "    </tr>\n",
       "    <tr>\n",
       "      <th>8</th>\n",
       "      <td>2000</td>\n",
       "      <td>2</td>\n",
       "      <td>0</td>\n",
       "      <td>2</td>\n",
       "      <td>2</td>\n",
       "      <td>0</td>\n",
       "    </tr>\n",
       "    <tr>\n",
       "      <th>9</th>\n",
       "      <td>1000</td>\n",
       "      <td>4</td>\n",
       "      <td>0</td>\n",
       "      <td>1</td>\n",
       "      <td>7</td>\n",
       "      <td>0</td>\n",
       "    </tr>\n",
       "  </tbody>\n",
       "</table>\n",
       "</div>"
      ],
      "text/plain": [
       "   Avg_Mthly_Spend  No_Of_Visits  Apparel_Items  FnV_Items  Staples_Items  \\\n",
       "0            10000             2              1          1              0   \n",
       "1             7000             3              0         10              9   \n",
       "2             7000             7              1          3              4   \n",
       "3             6500             5              1          1              4   \n",
       "4             6000             6              0         12              3   \n",
       "5             4000             3              0          1              8   \n",
       "6             2500             5              0         11              2   \n",
       "7             2500             3              0          1              1   \n",
       "8             2000             2              0          2              2   \n",
       "9             1000             4              0          1              7   \n",
       "\n",
       "   labels  \n",
       "0       1  \n",
       "1       0  \n",
       "2       1  \n",
       "3       1  \n",
       "4       0  \n",
       "5       0  \n",
       "6       0  \n",
       "7       0  \n",
       "8       0  \n",
       "9       0  "
      ]
     },
     "execution_count": 19,
     "metadata": {},
     "output_type": "execute_result"
    }
   ],
   "source": [
    "dfattr['labels']=m.labels_\n",
    "dfattr.head(10)"
   ]
  },
  {
   "cell_type": "code",
   "execution_count": 20,
   "id": "dc1d7cce",
   "metadata": {},
   "outputs": [],
   "source": [
    "df=dfattr.groupby(['labels'])"
   ]
  },
  {
   "cell_type": "code",
   "execution_count": 21,
   "id": "a03f5f5f",
   "metadata": {},
   "outputs": [
    {
     "data": {
      "text/html": [
       "<div>\n",
       "<style scoped>\n",
       "    .dataframe tbody tr th:only-of-type {\n",
       "        vertical-align: middle;\n",
       "    }\n",
       "\n",
       "    .dataframe tbody tr th {\n",
       "        vertical-align: top;\n",
       "    }\n",
       "\n",
       "    .dataframe thead th {\n",
       "        text-align: right;\n",
       "    }\n",
       "</style>\n",
       "<table border=\"1\" class=\"dataframe\">\n",
       "  <thead>\n",
       "    <tr style=\"text-align: right;\">\n",
       "      <th></th>\n",
       "      <th>Avg_Mthly_Spend</th>\n",
       "      <th>No_Of_Visits</th>\n",
       "      <th>Apparel_Items</th>\n",
       "      <th>FnV_Items</th>\n",
       "      <th>Staples_Items</th>\n",
       "    </tr>\n",
       "    <tr>\n",
       "      <th>labels</th>\n",
       "      <th></th>\n",
       "      <th></th>\n",
       "      <th></th>\n",
       "      <th></th>\n",
       "      <th></th>\n",
       "    </tr>\n",
       "  </thead>\n",
       "  <tbody>\n",
       "    <tr>\n",
       "      <th>0</th>\n",
       "      <td>3571.428571</td>\n",
       "      <td>3.714286</td>\n",
       "      <td>0.0</td>\n",
       "      <td>5.428571</td>\n",
       "      <td>4.571429</td>\n",
       "    </tr>\n",
       "    <tr>\n",
       "      <th>1</th>\n",
       "      <td>7833.333333</td>\n",
       "      <td>4.666667</td>\n",
       "      <td>1.0</td>\n",
       "      <td>1.666667</td>\n",
       "      <td>2.666667</td>\n",
       "    </tr>\n",
       "  </tbody>\n",
       "</table>\n",
       "</div>"
      ],
      "text/plain": [
       "        Avg_Mthly_Spend  No_Of_Visits  Apparel_Items  FnV_Items  Staples_Items\n",
       "labels                                                                        \n",
       "0           3571.428571      3.714286            0.0   5.428571       4.571429\n",
       "1           7833.333333      4.666667            1.0   1.666667       2.666667"
      ]
     },
     "execution_count": 21,
     "metadata": {},
     "output_type": "execute_result"
    }
   ],
   "source": [
    "df.mean()"
   ]
  },
  {
   "cell_type": "code",
   "execution_count": 32,
   "id": "9766b6e3",
   "metadata": {},
   "outputs": [],
   "source": [
    "from scipy.cluster.hierarchy import cophenet,dendrogram,linkage"
   ]
  },
  {
   "cell_type": "code",
   "execution_count": 24,
   "id": "d1725944",
   "metadata": {},
   "outputs": [],
   "source": [
    "from scipy.spatial.distance import pdist"
   ]
  },
  {
   "cell_type": "code",
   "execution_count": 25,
   "id": "71f04ec9",
   "metadata": {},
   "outputs": [
    {
     "data": {
      "text/plain": [
       "0.8681149436293064"
      ]
     },
     "execution_count": 25,
     "metadata": {},
     "output_type": "execute_result"
    }
   ],
   "source": [
    "z=linkage(dfScaled,metric='euclidean',method='average')\n",
    "c,df=cophenet(z,pdist(dfScaled))\n",
    "c"
   ]
  },
  {
   "cell_type": "code",
   "execution_count": 33,
   "id": "18454d99",
   "metadata": {},
   "outputs": [
    {
     "data": {
      "image/png": "[encoded data removed]",
      "text/plain": [
       "<Figure size 720x360 with 1 Axes>"
      ]
     },
     "metadata": {
      "needs_background": "light"
     },
     "output_type": "display_data"
    }
   ],
   "source": [
    "plt.figure(figsize=(10,5))\n",
    "plt.title(\"Agglomerative Hierarchical Clustering Dendrogram\")\n",
    "plt.xlabel('sample index')\n",
    "plt.ylabel('distance')\n",
    "dendrogram(z,leaf_rotation=90,color_threshold=40,leaf_font_size=8.)\n",
    "plt.tight_layout()"
   ]
  },
  {
   "cell_type": "code",
   "execution_count": 35,
   "id": "257e55d5",
   "metadata": {},
   "outputs": [
    {
     "data": {
      "text/plain": [
       "0.8606955190809153"
      ]
     },
     "execution_count": 35,
     "metadata": {},
     "output_type": "execute_result"
    }
   ],
   "source": [
    "z=linkage(dfScaled,metric='euclidean',method='complete')\n",
    "c,df=cophenet(z,pdist(dfScaled))\n",
    "c"
   ]
  },
  {
   "cell_type": "code",
   "execution_count": 36,
   "id": "bc348f35",
   "metadata": {},
   "outputs": [
    {
     "data": {
      "image/png": "[encoded data removed]",
      "text/plain": [
       "<Figure size 720x360 with 1 Axes>"
      ]
     },
     "metadata": {
      "needs_background": "light"
     },
     "output_type": "display_data"
    }
   ],
   "source": [
    "plt.figure(figsize=(10,5))\n",
    "plt.title(\"Agglomerative Hierarchical Clustering Dendrogram\")\n",
    "plt.xlabel('sample index')\n",
    "plt.ylabel('distance')\n",
    "dendrogram(z,leaf_rotation=90,color_threshold=40,leaf_font_size=10.)\n",
    "plt.tight_layout()"
   ]
  },
  {
   "cell_type": "code",
   "execution_count": 37,
   "id": "243c140e",
   "metadata": {},
   "outputs": [
    {
     "data": {
      "text/plain": [
       "0.8453818941339526"
      ]
     },
     "execution_count": 37,
     "metadata": {},
     "output_type": "execute_result"
    }
   ],
   "source": [
    "z=linkage(dfScaled,metric='euclidean',method='ward')\n",
    "c,df=cophenet(z,pdist(dfScaled))\n",
    "c"
   ]
  },
  {
   "cell_type": "code",
   "execution_count": 38,
   "id": "0a01b40a",
   "metadata": {},
   "outputs": [
    {
     "data": {
      "image/png": "[encoded data removed]",
      "text/plain": [
       "<Figure size 720x360 with 1 Axes>"
      ]
     },
     "metadata": {
      "needs_background": "light"
     },
     "output_type": "display_data"
    }
   ],
   "source": [
    "plt.figure(figsize=(10,5))\n",
    "plt.title(\"Agglomerative Hierarchical Clustering Dendrogram\")\n",
    "plt.xlabel('sample index')\n",
    "plt.ylabel('distance')\n",
    "dendrogram(z,leaf_rotation=90.,color_threshold=40,leaf_font_size=10.)\n",
    "plt.tight_layout()"
   ]
  },
  {
   "cell_type": "code",
   "execution_count": null,
   "id": "2bd232ee",
   "metadata": {},
   "outputs": [],
   "source": []
  }
 ],
 "metadata": {
  "kernelspec": {
   "display_name": "Python 3 (ipykernel)",
   "language": "python",
   "name": "python3"
  },
  "language_info": {
   "codemirror_mode": {
    "name": "ipython",
    "version": 3
   },
   "file_extension": ".py",
   "mimetype": "text/x-python",
   "name": "python",
   "nbconvert_exporter": "python",
   "pygments_lexer": "ipython3",
   "version": "3.9.7"
  }
 },
 "nbformat": 4,
 "nbformat_minor": 5
}
